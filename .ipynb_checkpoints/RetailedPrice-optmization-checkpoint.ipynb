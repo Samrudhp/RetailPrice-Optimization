{
 "cells": [
  {
   "cell_type": "code",
   "execution_count": 2,
   "id": "1b6e1004-aa41-40cd-9b83-4942a13b97b2",
   "metadata": {},
   "outputs": [],
   "source": [
    "import numpy as np\n",
    "import pandas as pd\n",
    "import matplotlib.pyplot as plt"
   ]
  },
  {
   "cell_type": "code",
   "execution_count": 3,
   "id": "76c910bb-93d9-4e40-9792-e38caeebadf8",
   "metadata": {},
   "outputs": [],
   "source": [
    "data = pd.read_csv('sales_data.csv')"
   ]
  },
  {
   "cell_type": "code",
   "execution_count": 22,
   "id": "07732dc3-42fc-42ac-9969-1c21fa0bc0ac",
   "metadata": {},
   "outputs": [
    {
     "data": {
      "text/html": [
       "<div>\n",
       "<style scoped>\n",
       "    .dataframe tbody tr th:only-of-type {\n",
       "        vertical-align: middle;\n",
       "    }\n",
       "\n",
       "    .dataframe tbody tr th {\n",
       "        vertical-align: top;\n",
       "    }\n",
       "\n",
       "    .dataframe thead th {\n",
       "        text-align: right;\n",
       "    }\n",
       "</style>\n",
       "<table border=\"1\" class=\"dataframe\">\n",
       "  <thead>\n",
       "    <tr style=\"text-align: right;\">\n",
       "      <th></th>\n",
       "      <th>price</th>\n",
       "      <th>quantity</th>\n",
       "      <th>data</th>\n",
       "    </tr>\n",
       "  </thead>\n",
       "  <tbody>\n",
       "    <tr>\n",
       "      <th>count</th>\n",
       "      <td>5.000000</td>\n",
       "      <td>5.000000</td>\n",
       "      <td>5</td>\n",
       "    </tr>\n",
       "    <tr>\n",
       "      <th>mean</th>\n",
       "      <td>2.660000</td>\n",
       "      <td>113.000000</td>\n",
       "      <td>2023-01-03 00:00:00</td>\n",
       "    </tr>\n",
       "    <tr>\n",
       "      <th>min</th>\n",
       "      <td>2.500000</td>\n",
       "      <td>100.000000</td>\n",
       "      <td>2023-01-01 00:00:00</td>\n",
       "    </tr>\n",
       "    <tr>\n",
       "      <th>25%</th>\n",
       "      <td>2.500000</td>\n",
       "      <td>105.000000</td>\n",
       "      <td>2023-01-02 00:00:00</td>\n",
       "    </tr>\n",
       "    <tr>\n",
       "      <th>50%</th>\n",
       "      <td>2.700000</td>\n",
       "      <td>110.000000</td>\n",
       "      <td>2023-01-03 00:00:00</td>\n",
       "    </tr>\n",
       "    <tr>\n",
       "      <th>75%</th>\n",
       "      <td>2.700000</td>\n",
       "      <td>120.000000</td>\n",
       "      <td>2023-01-04 00:00:00</td>\n",
       "    </tr>\n",
       "    <tr>\n",
       "      <th>max</th>\n",
       "      <td>2.900000</td>\n",
       "      <td>130.000000</td>\n",
       "      <td>2023-01-05 00:00:00</td>\n",
       "    </tr>\n",
       "    <tr>\n",
       "      <th>std</th>\n",
       "      <td>0.167332</td>\n",
       "      <td>12.041595</td>\n",
       "      <td>NaN</td>\n",
       "    </tr>\n",
       "  </tbody>\n",
       "</table>\n",
       "</div>"
      ],
      "text/plain": [
       "          price    quantity                 data\n",
       "count  5.000000    5.000000                    5\n",
       "mean   2.660000  113.000000  2023-01-03 00:00:00\n",
       "min    2.500000  100.000000  2023-01-01 00:00:00\n",
       "25%    2.500000  105.000000  2023-01-02 00:00:00\n",
       "50%    2.700000  110.000000  2023-01-03 00:00:00\n",
       "75%    2.700000  120.000000  2023-01-04 00:00:00\n",
       "max    2.900000  130.000000  2023-01-05 00:00:00\n",
       "std    0.167332   12.041595                  NaN"
      ]
     },
     "execution_count": 22,
     "metadata": {},
     "output_type": "execute_result"
    }
   ],
   "source": [
    "data.describe()"
   ]
  },
  {
   "cell_type": "code",
   "execution_count": 4,
   "id": "b488c43c-ca68-4001-b2e3-0523fde0900d",
   "metadata": {},
   "outputs": [
    {
     "name": "stdout",
     "output_type": "stream",
     "text": [
      "         date   product  price  quantity\n",
      "0  2023-01-01  Espresso    2.5       100\n",
      "1  2023-01-02  Espresso    2.5       120\n",
      "2  2023-01-03  Espresso    2.7       110\n",
      "3  2023-01-04  Espresso    2.7       130\n",
      "4  2023-01-05  Espresso    2.9       105\n"
     ]
    }
   ],
   "source": [
    "print(data.head())"
   ]
  },
  {
   "cell_type": "code",
   "execution_count": 5,
   "id": "5404b062-aa41-4a4d-83e5-6bfce5bb709a",
   "metadata": {},
   "outputs": [
    {
     "name": "stdout",
     "output_type": "stream",
     "text": [
      "Index(['date', 'product', 'price', 'quantity'], dtype='object')\n"
     ]
    }
   ],
   "source": [
    "print(data.columns)"
   ]
  },
  {
   "cell_type": "code",
   "execution_count": 12,
   "id": "5dce6ff9-b2cc-4f9d-bcc1-c4698366b2b2",
   "metadata": {},
   "outputs": [
    {
     "data": {
      "text/plain": [
       "<bound method DataFrame.isnull of          date     product  price  quantity\n",
       "0  2023-01-01    Espresso    2.5       100\n",
       "1  2023-01-02    Espresso    2.5       120\n",
       "2  2023-01-03    Espresso    2.7       110\n",
       "3  2023-01-04    Espresso    2.7       130\n",
       "4  2023-01-05    Espresso    2.9       105\n",
       "5  2023-01-01  Cappuccino    3.0        80\n",
       "6  2023-01-02  Cappuccino    3.0        90\n",
       "7  2023-01-03  Cappuccino    3.2        85\n",
       "8  2023-01-04  Cappuccino    3.2        95\n",
       "9  2023-01-05  Cappuccino    3.4        88>"
      ]
     },
     "execution_count": 12,
     "metadata": {},
     "output_type": "execute_result"
    }
   ],
   "source": [
    "data.isnull"
   ]
  },
  {
   "cell_type": "code",
   "execution_count": 23,
   "id": "7dc3b70f-9ae4-4c7c-86bc-9c8a1b139df3",
   "metadata": {},
   "outputs": [],
   "source": [
    "#data cleaning\n",
    "data['data'] = pd.to_datetime(data['date'])\n",
    "data['price'] = pd.to_numeric(data['price'])\n",
    "data['quantity'] =  pd.to_numeric(data['quantity'])\n",
    "\n"
   ]
  },
  {
   "cell_type": "code",
   "execution_count": 19,
   "id": "5305d657-190a-4507-ae4e-157463314fef",
   "metadata": {},
   "outputs": [
    {
     "name": "stdout",
     "output_type": "stream",
     "text": [
      "Price Elasticity of Demand for Espresso : -3.5714285714285428\n"
     ]
    }
   ],
   "source": [
    "#calculate price elasticity\n",
    "from sklearn.linear_model import LinearRegression\n",
    "grouped_data = data.groupby('product')\n",
    "\n",
    "for product,data in grouped_data:\n",
    "    X = data[['price']]\n",
    "    y = data['quantity']\n",
    "\n",
    "#fit the model\n",
    "model = LinearRegression()\n",
    "model.fit(X,y)\n",
    "\n",
    "#calculate the price elasticity\n",
    "price_elasticity = model.coef_[0]\n",
    "print(f\"Price Elasticity of Demand for {product} : {price_elasticity}\")"
   ]
  },
  {
   "cell_type": "code",
   "execution_count": 26,
   "id": "96fa739a-b28f-4993-930c-b573beee8527",
   "metadata": {},
   "outputs": [
    {
     "data": {
      "image/png": "[encoded data removed]",
      "text/plain": [
       "<Figure size 1000x600 with 1 Axes>"
      ]
     },
     "metadata": {},
     "output_type": "display_data"
    },
    {
     "data": {
      "image/png": "[encoded data removed]",
      "text/plain": [
       "<Figure size 1000x600 with 1 Axes>"
      ]
     },
     "metadata": {},
     "output_type": "display_data"
    }
   ],
   "source": [
    "for product,data in grouped_data :\n",
    "    plt.figure(figsize = (10,6))\n",
    "    plt.scatter(data['price'],\n",
    "               data['quantity'],color = 'blue')\n",
    "    plt.plot(data['price'],model.predict(X),color = 'red')\n",
    "    plt.title(f\"Price VS Quanitity Sold for {product}\")\n",
    "    plt.xlabel('Price')\n",
    "    plt.ylabel('Quantity sold')\n",
    "    plt.show()\n",
    "    "
   ]
  },
  {
   "cell_type": "code",
   "execution_count": 27,
   "id": "260c4424-7a6a-46c1-86bd-7fe585675535",
   "metadata": {},
   "outputs": [],
   "source": [
    "#Interpretation of Results\n",
    "\n",
    "#   Negative Coefficient: A negative coefficient indicates that as price increases, quantity demanded decreases, which is typical for most goods.\n",
    "#   Magnitude of Coefficient: The magnitude of the coefficient indicates the sensitivity of demand to price changes. A larger absolute value indicates more elastic demand.\n",
    "\n",
    "#By understanding and calculating PED, the café can make informed decisions about pricing strategies to optimize revenue and profitability. \n",
    "\n",
    "#the regression line in the plot shows the trend :\n",
    "# As price increases the quantity also decreases"
   ]
  },
  {
   "cell_type": "code",
   "execution_count": null,
   "id": "bed703f8-6d78-42cd-9edd-4161cf1adfd1",
   "metadata": {},
   "outputs": [],
   "source": []
  }
 ],
 "metadata": {
  "kernelspec": {
   "display_name": "Python 3 (ipykernel)",
   "language": "python",
   "name": "python3"
  },
  "language_info": {
   "codemirror_mode": {
    "name": "ipython",
    "version": 3
   },
   "file_extension": ".py",
   "mimetype": "text/x-python",
   "name": "python",
   "nbconvert_exporter": "python",
   "pygments_lexer": "ipython3",
   "version": "3.13.1"
  }
 },
 "nbformat": 4,
 "nbformat_minor": 5
}
